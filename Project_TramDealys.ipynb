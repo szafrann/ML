{
 "cells": [
  {
   "cell_type": "code",
   "execution_count": 2,
   "metadata": {},
   "outputs": [],
   "source": [
    "import pandas as pd\n",
    "import numpy as np\n",
    "\n",
    "from sklearn.tree import DecisionTreeRegressor\n",
    "from sklearn.ensemble import RandomForestRegressor\n",
    "from sklearn.model_selection import cross_val_score\n",
    "\n",
    "%matplotlib inline"
   ]
  },
  {
   "cell_type": "code",
   "execution_count": 3,
   "metadata": {},
   "outputs": [],
   "source": [
    "df = pd.read_csv('https://raw.githubusercontent.com/aczepielik/KRKtram/master/reports/report_07-23.csv')"
   ]
  },
  {
   "cell_type": "code",
   "execution_count": 4,
   "metadata": {},
   "outputs": [
    {
     "data": {
      "text/html": [
       "<div>\n",
       "<style scoped>\n",
       "    .dataframe tbody tr th:only-of-type {\n",
       "        vertical-align: middle;\n",
       "    }\n",
       "\n",
       "    .dataframe tbody tr th {\n",
       "        vertical-align: top;\n",
       "    }\n",
       "\n",
       "    .dataframe thead th {\n",
       "        text-align: right;\n",
       "    }\n",
       "</style>\n",
       "<table border=\"1\" class=\"dataframe\">\n",
       "  <thead>\n",
       "    <tr style=\"text-align: right;\">\n",
       "      <th></th>\n",
       "      <th>index</th>\n",
       "      <th>time_stamp</th>\n",
       "      <th>stop</th>\n",
       "      <th>stopName</th>\n",
       "      <th>number</th>\n",
       "      <th>direction</th>\n",
       "      <th>plannedTime</th>\n",
       "      <th>vehicleId</th>\n",
       "      <th>tripId</th>\n",
       "      <th>status</th>\n",
       "      <th>delay</th>\n",
       "      <th>seq_num</th>\n",
       "    </tr>\n",
       "  </thead>\n",
       "  <tbody>\n",
       "    <tr>\n",
       "      <th>0</th>\n",
       "      <td>1</td>\n",
       "      <td>2018-07-23 06:00:45</td>\n",
       "      <td>378</td>\n",
       "      <td>Os.Piastów</td>\n",
       "      <td>21</td>\n",
       "      <td>Kopiec Wandy</td>\n",
       "      <td>2018-07-23 05:59:00</td>\n",
       "      <td>NaN</td>\n",
       "      <td>6351558574044883205</td>\n",
       "      <td>PLANNED</td>\n",
       "      <td>1</td>\n",
       "      <td>1.0</td>\n",
       "    </tr>\n",
       "    <tr>\n",
       "      <th>1</th>\n",
       "      <td>1</td>\n",
       "      <td>2018-07-23 06:00:47</td>\n",
       "      <td>612</td>\n",
       "      <td>Borsucza</td>\n",
       "      <td>22</td>\n",
       "      <td>Walcownia</td>\n",
       "      <td>2018-07-23 06:00:00</td>\n",
       "      <td>6.352185e+18</td>\n",
       "      <td>6351558574044899587</td>\n",
       "      <td>STOPPING</td>\n",
       "      <td>0</td>\n",
       "      <td>7.0</td>\n",
       "    </tr>\n",
       "    <tr>\n",
       "      <th>2</th>\n",
       "      <td>1</td>\n",
       "      <td>2018-07-23 06:00:48</td>\n",
       "      <td>572</td>\n",
       "      <td>Smolki</td>\n",
       "      <td>11</td>\n",
       "      <td>Czerwone Maki P+R</td>\n",
       "      <td>2018-07-23 06:00:00</td>\n",
       "      <td>6.352185e+18</td>\n",
       "      <td>6351558574044670211</td>\n",
       "      <td>STOPPING</td>\n",
       "      <td>0</td>\n",
       "      <td>10.0</td>\n",
       "    </tr>\n",
       "    <tr>\n",
       "      <th>3</th>\n",
       "      <td>1</td>\n",
       "      <td>2018-07-23 06:00:49</td>\n",
       "      <td>319</td>\n",
       "      <td>Jubilat</td>\n",
       "      <td>1</td>\n",
       "      <td>Wzgórza K.</td>\n",
       "      <td>2018-07-23 05:59:00</td>\n",
       "      <td>NaN</td>\n",
       "      <td>6351558574044363010</td>\n",
       "      <td>PLANNED</td>\n",
       "      <td>1</td>\n",
       "      <td>3.0</td>\n",
       "    </tr>\n",
       "    <tr>\n",
       "      <th>4</th>\n",
       "      <td>1</td>\n",
       "      <td>2018-07-23 06:00:49</td>\n",
       "      <td>322</td>\n",
       "      <td>Filharmonia</td>\n",
       "      <td>8</td>\n",
       "      <td>Bronowice Małe</td>\n",
       "      <td>2018-07-23 06:01:00</td>\n",
       "      <td>6.352185e+18</td>\n",
       "      <td>6351558574044592386</td>\n",
       "      <td>STOPPING</td>\n",
       "      <td>0</td>\n",
       "      <td>15.0</td>\n",
       "    </tr>\n",
       "  </tbody>\n",
       "</table>\n",
       "</div>"
      ],
      "text/plain": [
       "   index           time_stamp  stop     stopName  number          direction  \\\n",
       "0      1  2018-07-23 06:00:45   378   Os.Piastów      21       Kopiec Wandy   \n",
       "1      1  2018-07-23 06:00:47   612     Borsucza      22          Walcownia   \n",
       "2      1  2018-07-23 06:00:48   572       Smolki      11  Czerwone Maki P+R   \n",
       "3      1  2018-07-23 06:00:49   319      Jubilat       1         Wzgórza K.   \n",
       "4      1  2018-07-23 06:00:49   322  Filharmonia       8     Bronowice Małe   \n",
       "\n",
       "           plannedTime     vehicleId               tripId    status  delay  \\\n",
       "0  2018-07-23 05:59:00           NaN  6351558574044883205   PLANNED      1   \n",
       "1  2018-07-23 06:00:00  6.352185e+18  6351558574044899587  STOPPING      0   \n",
       "2  2018-07-23 06:00:00  6.352185e+18  6351558574044670211  STOPPING      0   \n",
       "3  2018-07-23 05:59:00           NaN  6351558574044363010   PLANNED      1   \n",
       "4  2018-07-23 06:01:00  6.352185e+18  6351558574044592386  STOPPING      0   \n",
       "\n",
       "   seq_num  \n",
       "0      1.0  \n",
       "1      7.0  \n",
       "2     10.0  \n",
       "3      3.0  \n",
       "4     15.0  "
      ]
     },
     "execution_count": 4,
     "metadata": {},
     "output_type": "execute_result"
    }
   ],
   "source": [
    "df.head()"
   ]
  },
  {
   "cell_type": "code",
   "execution_count": 5,
   "metadata": {},
   "outputs": [
    {
     "data": {
      "text/plain": [
       "0     0.426905\n",
       "1     0.344715\n",
       "2     0.123509\n",
       "3     0.055987\n",
       "4     0.025421\n",
       "5     0.011410\n",
       "6     0.004852\n",
       "7     0.002657\n",
       "8     0.001189\n",
       "9     0.000867\n",
       "10    0.000587\n",
       "14    0.000503\n",
       "12    0.000475\n",
       "11    0.000350\n",
       "13    0.000336\n",
       "15    0.000154\n",
       "16    0.000042\n",
       "19    0.000028\n",
       "18    0.000014\n",
       "Name: delay, dtype: float64"
      ]
     },
     "execution_count": 5,
     "metadata": {},
     "output_type": "execute_result"
    }
   ],
   "source": [
    "# percentage of each delay value\n",
    "df.delay.value_counts(normalize=True)"
   ]
  },
  {
   "cell_type": "code",
   "execution_count": 6,
   "metadata": {},
   "outputs": [
    {
     "data": {
      "text/plain": [
       "Index(['index', 'time_stamp', 'stop', 'stopName', 'number', 'direction',\n",
       "       'plannedTime', 'vehicleId', 'tripId', 'status', 'delay', 'seq_num'],\n",
       "      dtype='object')"
      ]
     },
     "execution_count": 6,
     "metadata": {},
     "output_type": "execute_result"
    }
   ],
   "source": [
    "df.columns"
   ]
  },
  {
   "cell_type": "code",
   "execution_count": 7,
   "metadata": {},
   "outputs": [],
   "source": [
    "#write column names in brackets to get X as matrix - not vector \n",
    "X = df[['number']].values"
   ]
  },
  {
   "cell_type": "code",
   "execution_count": 9,
   "metadata": {},
   "outputs": [],
   "source": [
    "# y will be vector\n",
    "y = df['delay'].values"
   ]
  },
  {
   "cell_type": "code",
   "execution_count": null,
   "metadata": {},
   "outputs": [],
   "source": []
  }
 ],
 "metadata": {
  "kernelspec": {
   "display_name": "Python 3",
   "language": "python",
   "name": "python3"
  },
  "language_info": {
   "codemirror_mode": {
    "name": "ipython",
    "version": 3
   },
   "file_extension": ".py",
   "mimetype": "text/x-python",
   "name": "python",
   "nbconvert_exporter": "python",
   "pygments_lexer": "ipython3",
   "version": "3.8.5"
  }
 },
 "nbformat": 4,
 "nbformat_minor": 4
}
